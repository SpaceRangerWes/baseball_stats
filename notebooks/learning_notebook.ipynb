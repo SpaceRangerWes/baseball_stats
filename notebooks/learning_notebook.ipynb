{
 "cells": [
  {
   "cell_type": "code",
   "execution_count": 6,
   "id": "5012b2f5",
   "metadata": {},
   "outputs": [
    {
     "name": "stderr",
     "output_type": "stream",
     "text": [
      "Matplotlib is building the font cache; this may take a moment.\n"
     ]
    }
   ],
   "source": [
    "import pandas as pd\n",
    "import numpy as np    \n",
    "import sys\n",
    "import os\n",
    "sys.path.append(os.path.abspath(os.path.join(os.pardir, 'src')))\n",
    "from baseball_stats import *"
   ]
  },
  {
   "cell_type": "code",
   "execution_count": null,
   "id": "55296a00",
   "metadata": {},
   "outputs": [
    {
     "name": "stdout",
     "output_type": "stream",
     "text": [
      "🧠 BASEBALL STATS LEARNING TOOL\n",
      "Built around your cheat sheet priorities\n",
      "==================================================\n",
      "=== BASEBALL STATS LEARNING TOOL ===\n",
      "Based on your cheat sheet priorities\n",
      "\n",
      "Fetching 2024 hitting data with focus on wRC+, OBP, K%, BB%...\n",
      "Fetching 2024 pitching data with focus on FIP, K-BB%, WHIP...\n",
      "Loaded 129 qualified hitters and 58 qualified pitchers\n",
      "\n",
      "=== STATS THAT LIE EXAMPLES ===\n",
      "\n",
      "1. BATTING AVERAGE LIES - OBP TELLS TRUTH\n",
      "Players with high AVG but mediocre OBP (probably don't walk):\n",
      "Empty DataFrame\n",
      "Columns: [Name, AVG, OBP, BB%]\n",
      "Index: []\n",
      "\n",
      "2. ERA LIES - FIP TELLS TRUTH\n",
      "Unlucky pitchers (ERA much higher than FIP):\n",
      "              Name   ERA   FIP  BABIP   LOB%\n",
      "53  Brandon Pfaadt  4.71  3.61  0.315  0.645\n",
      "56   Miles Mikolas  5.35  4.24  0.310  0.629\n",
      "57  Patrick Corbin  5.62  4.41  0.337  0.657\n",
      "\n",
      "3. RBI DEPENDS ON TEAMMATES\n",
      "High RBI leaders - check their wRC+ for actual value:\n",
      "             Name  RBI  wRC+ Team\n",
      "0     Aaron Judge  144   219  NYY\n",
      "1   Shohei Ohtani  130   180  LAD\n",
      "17   Jose Ramirez  118   142  CLE\n",
      "7    Brent Rooker  112   164  OAK\n",
      "32   Willy Adames  112   121  MIL\n",
      "\n",
      "=== HITTER TYPE ANALYSIS ===\n",
      "\n",
      "Average stats by hitter type:\n",
      "                   wRC+     K%    BB%    ISO    OPS\n",
      "Hitter_Type                                        \n",
      "Average Hitter  107.098  0.229  0.085  0.179  0.743\n",
      "Contact Artist   99.694  0.182  0.075  0.124  0.702\n",
      "Elite Hitter    143.875  0.208  0.105  0.235  0.877\n",
      "\n",
      "Elite Hitter Examples:\n",
      "            Name  wRC+     K%    BB%    ISO    OPS\n",
      "0    Aaron Judge   219  0.243  0.189  0.379  1.159\n",
      "1  Shohei Ohtani   180  0.222  0.111  0.336  1.036\n",
      "\n",
      "Average Hitter Examples:\n",
      "            Name  wRC+     K%    BB%    ISO    OPS\n",
      "55     JJ Bleday   120  0.195  0.104  0.194  0.762\n",
      "40  Heliot Ramos   120  0.261  0.071  0.200  0.792\n",
      "\n",
      "Contact Artist Examples:\n",
      "           Name  wRC+     K%    BB%    ISO    OPS\n",
      "25  Steven Kwan   131  0.094  0.098  0.133  0.793\n",
      "29  Jose Altuve   127  0.174  0.069  0.145  0.790\n",
      "\n",
      "=== POSITION CONTEXT MATTERS ===\n",
      "\n",
      "Key insight from your cheat sheet:\n",
      "- Catcher with .750 OPS = Good (defense matters)\n",
      "- First baseman with .750 OPS = Bad (must hit)\n",
      "- Use wRC+ which adjusts for position context\n",
      "\n",
      "Elite hitters (wRC+ > 140) - MVP candidates:\n",
      "               Name Team  wRC+    OPS\n",
      "0       Aaron Judge  NYY   219  1.159\n",
      "3    Bobby Witt Jr.  KCR   168  0.977\n",
      "1     Shohei Ohtani  LAD   180  1.036\n",
      "2         Juan Soto  NYY   180  0.989\n",
      "9  Gunnar Henderson  BAL   154  0.893\n",
      "\n",
      "==================================================\n",
      "Next steps:\n",
      "1. Try: get_player_story('Ohtani') \n",
      "2. Try: quality_contact_analysis('Aaron Judge')\n",
      "3. Explore hitting_data and pitching_data DataFrames\n",
      "4. Focus on wRC+, FIP, K-BB% like your cheat sheet says!\n"
     ]
    }
   ],
   "source": [
    "print(\"🧠 BASEBALL STATS LEARNING TOOL\")\n",
    "print(\"Built around your cheat sheet priorities\")\n",
    "print(\"=\"*50)\n",
    "\n",
    "# Run the main learning examples\n",
    "hitting_data, pitching_data = quick_learning_examples()\n",
    "\n",
    "print(\"\\n\" + \"=\"*50)\n",
    "print(\"Next steps:\")\n",
    "print(\"1. Try: get_player_story('Ohtani') \")\n",
    "print(\"2. Try: quality_contact_analysis('Aaron Judge')\")\n",
    "print(\"3. Explore hitting_data and pitching_data DataFrames\")\n",
    "print(\"4. Focus on wRC+, FIP, K-BB% like your cheat sheet says!\")"
   ]
  },
  {
   "cell_type": "code",
   "execution_count": null,
   "id": "6bd3617a",
   "metadata": {},
   "outputs": [],
   "source": []
  }
 ],
 "metadata": {
  "kernelspec": {
   "display_name": "Baseball Stats",
   "language": "python",
   "name": "baseball-stats"
  },
  "language_info": {
   "codemirror_mode": {
    "name": "ipython",
    "version": 3
   },
   "file_extension": ".py",
   "mimetype": "text/x-python",
   "name": "python",
   "nbconvert_exporter": "python",
   "pygments_lexer": "ipython3",
   "version": "3.13.5"
  }
 },
 "nbformat": 4,
 "nbformat_minor": 5
}
